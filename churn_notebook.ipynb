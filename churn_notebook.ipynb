{
 "cells": [
  {
   "cell_type": "code",
   "execution_count": 1,
   "metadata": {
    "editable": true
   },
   "outputs": [],
   "source": [
    "# import os\n",
    "import os\n",
    "    \n",
    "from sklearn.metrics import plot_roc_curve, classification_report\n",
    "from sklearn.model_selection import GridSearchCV\n",
    "from sklearn.ensemble import RandomForestClassifier\n",
    "from sklearn.linear_model import LogisticRegression\n",
    "from sklearn.model_selection import train_test_split\n",
    "from sklearn.preprocessing import normalize\n",
    "import shap\n",
    "import joblib\n",
    "import pandas as pd\n",
    "import numpy as np\n",
    "import matplotlib.pyplot as plt\n",
    "import seaborn as sns\n",
    "sns.set()"
   ]
  },
  {
   "cell_type": "code",
   "execution_count": 2,
   "metadata": {
    "editable": true
   },
   "outputs": [],
   "source": [
    "def import_data(path):\n",
    "    '''\n",
    "    returns dataframe for the csv found at pth\n",
    "\n",
    "    input:\n",
    "            path: a path to the csv\n",
    "    output:\n",
    "            data_frame: pandas dataframe\n",
    "    '''\n",
    "    # Import data\n",
    "    data_frame = pd.read_csv(path)\n",
    "\n",
    "    # Add response variable\n",
    "    data_frame[\n",
    "        'Churn'] = data_frame['Attrition_Flag'].apply(\n",
    "            lambda val: 0 if val == \"Existing Customer\" else 1)\n",
    "\n",
    "    return data_frame"
   ]
  },
  {
   "cell_type": "code",
   "execution_count": 3,
   "metadata": {
    "editable": true
   },
   "outputs": [
    {
     "data": {
      "text/html": [
       "<div>\n",
       "<style scoped>\n",
       "    .dataframe tbody tr th:only-of-type {\n",
       "        vertical-align: middle;\n",
       "    }\n",
       "\n",
       "    .dataframe tbody tr th {\n",
       "        vertical-align: top;\n",
       "    }\n",
       "\n",
       "    .dataframe thead th {\n",
       "        text-align: right;\n",
       "    }\n",
       "</style>\n",
       "<table border=\"1\" class=\"dataframe\">\n",
       "  <thead>\n",
       "    <tr style=\"text-align: right;\">\n",
       "      <th></th>\n",
       "      <th>Unnamed: 0</th>\n",
       "      <th>CLIENTNUM</th>\n",
       "      <th>Attrition_Flag</th>\n",
       "      <th>Customer_Age</th>\n",
       "      <th>Gender</th>\n",
       "      <th>Dependent_count</th>\n",
       "      <th>Education_Level</th>\n",
       "      <th>Marital_Status</th>\n",
       "      <th>Income_Category</th>\n",
       "      <th>Card_Category</th>\n",
       "      <th>...</th>\n",
       "      <th>Contacts_Count_12_mon</th>\n",
       "      <th>Credit_Limit</th>\n",
       "      <th>Total_Revolving_Bal</th>\n",
       "      <th>Avg_Open_To_Buy</th>\n",
       "      <th>Total_Amt_Chng_Q4_Q1</th>\n",
       "      <th>Total_Trans_Amt</th>\n",
       "      <th>Total_Trans_Ct</th>\n",
       "      <th>Total_Ct_Chng_Q4_Q1</th>\n",
       "      <th>Avg_Utilization_Ratio</th>\n",
       "      <th>Churn</th>\n",
       "    </tr>\n",
       "  </thead>\n",
       "  <tbody>\n",
       "    <tr>\n",
       "      <th>0</th>\n",
       "      <td>0</td>\n",
       "      <td>768805383</td>\n",
       "      <td>Existing Customer</td>\n",
       "      <td>45</td>\n",
       "      <td>M</td>\n",
       "      <td>3</td>\n",
       "      <td>High School</td>\n",
       "      <td>Married</td>\n",
       "      <td>$60K - $80K</td>\n",
       "      <td>Blue</td>\n",
       "      <td>...</td>\n",
       "      <td>3</td>\n",
       "      <td>12691.0</td>\n",
       "      <td>777</td>\n",
       "      <td>11914.0</td>\n",
       "      <td>1.335</td>\n",
       "      <td>1144</td>\n",
       "      <td>42</td>\n",
       "      <td>1.625</td>\n",
       "      <td>0.061</td>\n",
       "      <td>0</td>\n",
       "    </tr>\n",
       "    <tr>\n",
       "      <th>1</th>\n",
       "      <td>1</td>\n",
       "      <td>818770008</td>\n",
       "      <td>Existing Customer</td>\n",
       "      <td>49</td>\n",
       "      <td>F</td>\n",
       "      <td>5</td>\n",
       "      <td>Graduate</td>\n",
       "      <td>Single</td>\n",
       "      <td>Less than $40K</td>\n",
       "      <td>Blue</td>\n",
       "      <td>...</td>\n",
       "      <td>2</td>\n",
       "      <td>8256.0</td>\n",
       "      <td>864</td>\n",
       "      <td>7392.0</td>\n",
       "      <td>1.541</td>\n",
       "      <td>1291</td>\n",
       "      <td>33</td>\n",
       "      <td>3.714</td>\n",
       "      <td>0.105</td>\n",
       "      <td>0</td>\n",
       "    </tr>\n",
       "    <tr>\n",
       "      <th>2</th>\n",
       "      <td>2</td>\n",
       "      <td>713982108</td>\n",
       "      <td>Existing Customer</td>\n",
       "      <td>51</td>\n",
       "      <td>M</td>\n",
       "      <td>3</td>\n",
       "      <td>Graduate</td>\n",
       "      <td>Married</td>\n",
       "      <td>$80K - $120K</td>\n",
       "      <td>Blue</td>\n",
       "      <td>...</td>\n",
       "      <td>0</td>\n",
       "      <td>3418.0</td>\n",
       "      <td>0</td>\n",
       "      <td>3418.0</td>\n",
       "      <td>2.594</td>\n",
       "      <td>1887</td>\n",
       "      <td>20</td>\n",
       "      <td>2.333</td>\n",
       "      <td>0.000</td>\n",
       "      <td>0</td>\n",
       "    </tr>\n",
       "    <tr>\n",
       "      <th>3</th>\n",
       "      <td>3</td>\n",
       "      <td>769911858</td>\n",
       "      <td>Existing Customer</td>\n",
       "      <td>40</td>\n",
       "      <td>F</td>\n",
       "      <td>4</td>\n",
       "      <td>High School</td>\n",
       "      <td>Unknown</td>\n",
       "      <td>Less than $40K</td>\n",
       "      <td>Blue</td>\n",
       "      <td>...</td>\n",
       "      <td>1</td>\n",
       "      <td>3313.0</td>\n",
       "      <td>2517</td>\n",
       "      <td>796.0</td>\n",
       "      <td>1.405</td>\n",
       "      <td>1171</td>\n",
       "      <td>20</td>\n",
       "      <td>2.333</td>\n",
       "      <td>0.760</td>\n",
       "      <td>0</td>\n",
       "    </tr>\n",
       "    <tr>\n",
       "      <th>4</th>\n",
       "      <td>4</td>\n",
       "      <td>709106358</td>\n",
       "      <td>Existing Customer</td>\n",
       "      <td>40</td>\n",
       "      <td>M</td>\n",
       "      <td>3</td>\n",
       "      <td>Uneducated</td>\n",
       "      <td>Married</td>\n",
       "      <td>$60K - $80K</td>\n",
       "      <td>Blue</td>\n",
       "      <td>...</td>\n",
       "      <td>0</td>\n",
       "      <td>4716.0</td>\n",
       "      <td>0</td>\n",
       "      <td>4716.0</td>\n",
       "      <td>2.175</td>\n",
       "      <td>816</td>\n",
       "      <td>28</td>\n",
       "      <td>2.500</td>\n",
       "      <td>0.000</td>\n",
       "      <td>0</td>\n",
       "    </tr>\n",
       "  </tbody>\n",
       "</table>\n",
       "<p>5 rows × 23 columns</p>\n",
       "</div>"
      ],
      "text/plain": [
       "   Unnamed: 0  CLIENTNUM     Attrition_Flag  Customer_Age Gender  \\\n",
       "0           0  768805383  Existing Customer            45      M   \n",
       "1           1  818770008  Existing Customer            49      F   \n",
       "2           2  713982108  Existing Customer            51      M   \n",
       "3           3  769911858  Existing Customer            40      F   \n",
       "4           4  709106358  Existing Customer            40      M   \n",
       "\n",
       "   Dependent_count Education_Level Marital_Status Income_Category  \\\n",
       "0                3     High School        Married     $60K - $80K   \n",
       "1                5        Graduate         Single  Less than $40K   \n",
       "2                3        Graduate        Married    $80K - $120K   \n",
       "3                4     High School        Unknown  Less than $40K   \n",
       "4                3      Uneducated        Married     $60K - $80K   \n",
       "\n",
       "  Card_Category  ...    Contacts_Count_12_mon  Credit_Limit  \\\n",
       "0          Blue  ...                        3       12691.0   \n",
       "1          Blue  ...                        2        8256.0   \n",
       "2          Blue  ...                        0        3418.0   \n",
       "3          Blue  ...                        1        3313.0   \n",
       "4          Blue  ...                        0        4716.0   \n",
       "\n",
       "   Total_Revolving_Bal  Avg_Open_To_Buy  Total_Amt_Chng_Q4_Q1  \\\n",
       "0                  777          11914.0                 1.335   \n",
       "1                  864           7392.0                 1.541   \n",
       "2                    0           3418.0                 2.594   \n",
       "3                 2517            796.0                 1.405   \n",
       "4                    0           4716.0                 2.175   \n",
       "\n",
       "   Total_Trans_Amt  Total_Trans_Ct  Total_Ct_Chng_Q4_Q1  \\\n",
       "0             1144              42                1.625   \n",
       "1             1291              33                3.714   \n",
       "2             1887              20                2.333   \n",
       "3             1171              20                2.333   \n",
       "4              816              28                2.500   \n",
       "\n",
       "   Avg_Utilization_Ratio  Churn  \n",
       "0                  0.061      0  \n",
       "1                  0.105      0  \n",
       "2                  0.000      0  \n",
       "3                  0.760      0  \n",
       "4                  0.000      0  \n",
       "\n",
       "[5 rows x 23 columns]"
      ]
     },
     "execution_count": 3,
     "metadata": {},
     "output_type": "execute_result"
    }
   ],
   "source": [
    "df = import_data(r\"./data/bank_data.csv\")\n",
    "df.head()"
   ]
  },
  {
   "cell_type": "code",
   "execution_count": 4,
   "metadata": {
    "editable": true
   },
   "outputs": [
    {
     "data": {
      "text/plain": [
       "(10127, 23)"
      ]
     },
     "execution_count": 4,
     "metadata": {},
     "output_type": "execute_result"
    }
   ],
   "source": [
    "df.shape"
   ]
  },
  {
   "cell_type": "code",
   "execution_count": 5,
   "metadata": {
    "editable": true
   },
   "outputs": [
    {
     "data": {
      "text/plain": [
       "Unnamed: 0                  0\n",
       "CLIENTNUM                   0\n",
       "Attrition_Flag              0\n",
       "Customer_Age                0\n",
       "Gender                      0\n",
       "Dependent_count             0\n",
       "Education_Level             0\n",
       "Marital_Status              0\n",
       "Income_Category             0\n",
       "Card_Category               0\n",
       "Months_on_book              0\n",
       "Total_Relationship_Count    0\n",
       "Months_Inactive_12_mon      0\n",
       "Contacts_Count_12_mon       0\n",
       "Credit_Limit                0\n",
       "Total_Revolving_Bal         0\n",
       "Avg_Open_To_Buy             0\n",
       "Total_Amt_Chng_Q4_Q1        0\n",
       "Total_Trans_Amt             0\n",
       "Total_Trans_Ct              0\n",
       "Total_Ct_Chng_Q4_Q1         0\n",
       "Avg_Utilization_Ratio       0\n",
       "Churn                       0\n",
       "dtype: int64"
      ]
     },
     "execution_count": 5,
     "metadata": {},
     "output_type": "execute_result"
    }
   ],
   "source": [
    "df.isnull().sum()"
   ]
  },
  {
   "cell_type": "code",
   "execution_count": 6,
   "metadata": {
    "editable": true
   },
   "outputs": [
    {
     "data": {
      "text/html": [
       "<div>\n",
       "<style scoped>\n",
       "    .dataframe tbody tr th:only-of-type {\n",
       "        vertical-align: middle;\n",
       "    }\n",
       "\n",
       "    .dataframe tbody tr th {\n",
       "        vertical-align: top;\n",
       "    }\n",
       "\n",
       "    .dataframe thead th {\n",
       "        text-align: right;\n",
       "    }\n",
       "</style>\n",
       "<table border=\"1\" class=\"dataframe\">\n",
       "  <thead>\n",
       "    <tr style=\"text-align: right;\">\n",
       "      <th></th>\n",
       "      <th>Unnamed: 0</th>\n",
       "      <th>CLIENTNUM</th>\n",
       "      <th>Customer_Age</th>\n",
       "      <th>Dependent_count</th>\n",
       "      <th>Months_on_book</th>\n",
       "      <th>Total_Relationship_Count</th>\n",
       "      <th>Months_Inactive_12_mon</th>\n",
       "      <th>Contacts_Count_12_mon</th>\n",
       "      <th>Credit_Limit</th>\n",
       "      <th>Total_Revolving_Bal</th>\n",
       "      <th>Avg_Open_To_Buy</th>\n",
       "      <th>Total_Amt_Chng_Q4_Q1</th>\n",
       "      <th>Total_Trans_Amt</th>\n",
       "      <th>Total_Trans_Ct</th>\n",
       "      <th>Total_Ct_Chng_Q4_Q1</th>\n",
       "      <th>Avg_Utilization_Ratio</th>\n",
       "      <th>Churn</th>\n",
       "    </tr>\n",
       "  </thead>\n",
       "  <tbody>\n",
       "    <tr>\n",
       "      <th>count</th>\n",
       "      <td>10127.000000</td>\n",
       "      <td>1.012700e+04</td>\n",
       "      <td>10127.000000</td>\n",
       "      <td>10127.000000</td>\n",
       "      <td>10127.000000</td>\n",
       "      <td>10127.000000</td>\n",
       "      <td>10127.000000</td>\n",
       "      <td>10127.000000</td>\n",
       "      <td>10127.000000</td>\n",
       "      <td>10127.000000</td>\n",
       "      <td>10127.000000</td>\n",
       "      <td>10127.000000</td>\n",
       "      <td>10127.000000</td>\n",
       "      <td>10127.000000</td>\n",
       "      <td>10127.000000</td>\n",
       "      <td>10127.000000</td>\n",
       "      <td>10127.000000</td>\n",
       "    </tr>\n",
       "    <tr>\n",
       "      <th>mean</th>\n",
       "      <td>5063.000000</td>\n",
       "      <td>7.391776e+08</td>\n",
       "      <td>46.325960</td>\n",
       "      <td>2.346203</td>\n",
       "      <td>35.928409</td>\n",
       "      <td>3.812580</td>\n",
       "      <td>2.341167</td>\n",
       "      <td>2.455317</td>\n",
       "      <td>8631.953698</td>\n",
       "      <td>1162.814061</td>\n",
       "      <td>7469.139637</td>\n",
       "      <td>0.759941</td>\n",
       "      <td>4404.086304</td>\n",
       "      <td>64.858695</td>\n",
       "      <td>0.712222</td>\n",
       "      <td>0.274894</td>\n",
       "      <td>0.160660</td>\n",
       "    </tr>\n",
       "    <tr>\n",
       "      <th>std</th>\n",
       "      <td>2923.557422</td>\n",
       "      <td>3.690378e+07</td>\n",
       "      <td>8.016814</td>\n",
       "      <td>1.298908</td>\n",
       "      <td>7.986416</td>\n",
       "      <td>1.554408</td>\n",
       "      <td>1.010622</td>\n",
       "      <td>1.106225</td>\n",
       "      <td>9088.776650</td>\n",
       "      <td>814.987335</td>\n",
       "      <td>9090.685324</td>\n",
       "      <td>0.219207</td>\n",
       "      <td>3397.129254</td>\n",
       "      <td>23.472570</td>\n",
       "      <td>0.238086</td>\n",
       "      <td>0.275691</td>\n",
       "      <td>0.367235</td>\n",
       "    </tr>\n",
       "    <tr>\n",
       "      <th>min</th>\n",
       "      <td>0.000000</td>\n",
       "      <td>7.080821e+08</td>\n",
       "      <td>26.000000</td>\n",
       "      <td>0.000000</td>\n",
       "      <td>13.000000</td>\n",
       "      <td>1.000000</td>\n",
       "      <td>0.000000</td>\n",
       "      <td>0.000000</td>\n",
       "      <td>1438.300000</td>\n",
       "      <td>0.000000</td>\n",
       "      <td>3.000000</td>\n",
       "      <td>0.000000</td>\n",
       "      <td>510.000000</td>\n",
       "      <td>10.000000</td>\n",
       "      <td>0.000000</td>\n",
       "      <td>0.000000</td>\n",
       "      <td>0.000000</td>\n",
       "    </tr>\n",
       "    <tr>\n",
       "      <th>25%</th>\n",
       "      <td>2531.500000</td>\n",
       "      <td>7.130368e+08</td>\n",
       "      <td>41.000000</td>\n",
       "      <td>1.000000</td>\n",
       "      <td>31.000000</td>\n",
       "      <td>3.000000</td>\n",
       "      <td>2.000000</td>\n",
       "      <td>2.000000</td>\n",
       "      <td>2555.000000</td>\n",
       "      <td>359.000000</td>\n",
       "      <td>1324.500000</td>\n",
       "      <td>0.631000</td>\n",
       "      <td>2155.500000</td>\n",
       "      <td>45.000000</td>\n",
       "      <td>0.582000</td>\n",
       "      <td>0.023000</td>\n",
       "      <td>0.000000</td>\n",
       "    </tr>\n",
       "    <tr>\n",
       "      <th>50%</th>\n",
       "      <td>5063.000000</td>\n",
       "      <td>7.179264e+08</td>\n",
       "      <td>46.000000</td>\n",
       "      <td>2.000000</td>\n",
       "      <td>36.000000</td>\n",
       "      <td>4.000000</td>\n",
       "      <td>2.000000</td>\n",
       "      <td>2.000000</td>\n",
       "      <td>4549.000000</td>\n",
       "      <td>1276.000000</td>\n",
       "      <td>3474.000000</td>\n",
       "      <td>0.736000</td>\n",
       "      <td>3899.000000</td>\n",
       "      <td>67.000000</td>\n",
       "      <td>0.702000</td>\n",
       "      <td>0.176000</td>\n",
       "      <td>0.000000</td>\n",
       "    </tr>\n",
       "    <tr>\n",
       "      <th>75%</th>\n",
       "      <td>7594.500000</td>\n",
       "      <td>7.731435e+08</td>\n",
       "      <td>52.000000</td>\n",
       "      <td>3.000000</td>\n",
       "      <td>40.000000</td>\n",
       "      <td>5.000000</td>\n",
       "      <td>3.000000</td>\n",
       "      <td>3.000000</td>\n",
       "      <td>11067.500000</td>\n",
       "      <td>1784.000000</td>\n",
       "      <td>9859.000000</td>\n",
       "      <td>0.859000</td>\n",
       "      <td>4741.000000</td>\n",
       "      <td>81.000000</td>\n",
       "      <td>0.818000</td>\n",
       "      <td>0.503000</td>\n",
       "      <td>0.000000</td>\n",
       "    </tr>\n",
       "    <tr>\n",
       "      <th>max</th>\n",
       "      <td>10126.000000</td>\n",
       "      <td>8.283431e+08</td>\n",
       "      <td>73.000000</td>\n",
       "      <td>5.000000</td>\n",
       "      <td>56.000000</td>\n",
       "      <td>6.000000</td>\n",
       "      <td>6.000000</td>\n",
       "      <td>6.000000</td>\n",
       "      <td>34516.000000</td>\n",
       "      <td>2517.000000</td>\n",
       "      <td>34516.000000</td>\n",
       "      <td>3.397000</td>\n",
       "      <td>18484.000000</td>\n",
       "      <td>139.000000</td>\n",
       "      <td>3.714000</td>\n",
       "      <td>0.999000</td>\n",
       "      <td>1.000000</td>\n",
       "    </tr>\n",
       "  </tbody>\n",
       "</table>\n",
       "</div>"
      ],
      "text/plain": [
       "         Unnamed: 0     CLIENTNUM  Customer_Age  Dependent_count  \\\n",
       "count  10127.000000  1.012700e+04  10127.000000     10127.000000   \n",
       "mean    5063.000000  7.391776e+08     46.325960         2.346203   \n",
       "std     2923.557422  3.690378e+07      8.016814         1.298908   \n",
       "min        0.000000  7.080821e+08     26.000000         0.000000   \n",
       "25%     2531.500000  7.130368e+08     41.000000         1.000000   \n",
       "50%     5063.000000  7.179264e+08     46.000000         2.000000   \n",
       "75%     7594.500000  7.731435e+08     52.000000         3.000000   \n",
       "max    10126.000000  8.283431e+08     73.000000         5.000000   \n",
       "\n",
       "       Months_on_book  Total_Relationship_Count  Months_Inactive_12_mon  \\\n",
       "count    10127.000000              10127.000000            10127.000000   \n",
       "mean        35.928409                  3.812580                2.341167   \n",
       "std          7.986416                  1.554408                1.010622   \n",
       "min         13.000000                  1.000000                0.000000   \n",
       "25%         31.000000                  3.000000                2.000000   \n",
       "50%         36.000000                  4.000000                2.000000   \n",
       "75%         40.000000                  5.000000                3.000000   \n",
       "max         56.000000                  6.000000                6.000000   \n",
       "\n",
       "       Contacts_Count_12_mon  Credit_Limit  Total_Revolving_Bal  \\\n",
       "count           10127.000000  10127.000000         10127.000000   \n",
       "mean                2.455317   8631.953698          1162.814061   \n",
       "std                 1.106225   9088.776650           814.987335   \n",
       "min                 0.000000   1438.300000             0.000000   \n",
       "25%                 2.000000   2555.000000           359.000000   \n",
       "50%                 2.000000   4549.000000          1276.000000   \n",
       "75%                 3.000000  11067.500000          1784.000000   \n",
       "max                 6.000000  34516.000000          2517.000000   \n",
       "\n",
       "       Avg_Open_To_Buy  Total_Amt_Chng_Q4_Q1  Total_Trans_Amt  Total_Trans_Ct  \\\n",
       "count     10127.000000          10127.000000     10127.000000    10127.000000   \n",
       "mean       7469.139637              0.759941      4404.086304       64.858695   \n",
       "std        9090.685324              0.219207      3397.129254       23.472570   \n",
       "min           3.000000              0.000000       510.000000       10.000000   \n",
       "25%        1324.500000              0.631000      2155.500000       45.000000   \n",
       "50%        3474.000000              0.736000      3899.000000       67.000000   \n",
       "75%        9859.000000              0.859000      4741.000000       81.000000   \n",
       "max       34516.000000              3.397000     18484.000000      139.000000   \n",
       "\n",
       "       Total_Ct_Chng_Q4_Q1  Avg_Utilization_Ratio         Churn  \n",
       "count         10127.000000           10127.000000  10127.000000  \n",
       "mean              0.712222               0.274894      0.160660  \n",
       "std               0.238086               0.275691      0.367235  \n",
       "min               0.000000               0.000000      0.000000  \n",
       "25%               0.582000               0.023000      0.000000  \n",
       "50%               0.702000               0.176000      0.000000  \n",
       "75%               0.818000               0.503000      0.000000  \n",
       "max               3.714000               0.999000      1.000000  "
      ]
     },
     "execution_count": 6,
     "metadata": {},
     "output_type": "execute_result"
    }
   ],
   "source": [
    "df.describe()"
   ]
  },
  {
   "cell_type": "code",
   "execution_count": 7,
   "metadata": {
    "editable": true
   },
   "outputs": [],
   "source": [
    "def perform_eda(data_frame, path, save=True):\n",
    "    '''\n",
    "    perform eda on data_frame and save figures to images folder\n",
    "    input:\n",
    "            data_frame: pandas dataframe\n",
    "            pth: directory to save the figures\n",
    "\n",
    "    output:\n",
    "            None\n",
    "    '''\n",
    "    # Generate histograms for Churn\n",
    "    plt.figure(figsize=(20, 10))\n",
    "    data_frame['Churn'].hist()\n",
    "    if save is True:\n",
    "        plt.savefig(path + \"/Churn_Histogram.png\")\n",
    "    else:\n",
    "        plt.show()\n",
    "\n",
    "    # Generate histograms for Customer Age\n",
    "    plt.figure(figsize=(20, 10))\n",
    "    data_frame['Customer_Age'].hist()\n",
    "    if save is True:\n",
    "        plt.savefig(path + \"/Customer_Age_Histogram.png\")\n",
    "    else:\n",
    "        plt.show()\n",
    "\n",
    "    # Generate histogram for Marital Status\n",
    "    plt.figure(figsize=(20, 10))\n",
    "    data_frame.Marital_Status.value_counts('normalize').plot(kind='bar')\n",
    "    if save is True:\n",
    "        plt.savefig(path + \"/Marital_Status_Histogram.png\")\n",
    "    else:\n",
    "        plt.show()\n",
    "\n",
    "    # Generate heatmap of all features\n",
    "    plt.figure(figsize=(20, 10))\n",
    "    sns.heatmap(data_frame.corr(), annot=False, cmap='Dark2_r', linewidths=2)\n",
    "    if save is True:\n",
    "        plt.savefig(path + \"/Heatmap.png\")\n",
    "    else:\n",
    "        plt.show()\n",
    "\n",
    "    # Generate histogram for Total Trans Count\n",
    "    plt.figure(figsize=(20, 10))\n",
    "    sns.distplot(data_frame['Total_Trans_Ct'])\n",
    "    if save is True:\n",
    "        plt.savefig(path + \"/Total_Trans_Ct_Plot.png\")\n",
    "    else:\n",
    "        plt.show()"
   ]
  },
  {
   "cell_type": "code",
   "execution_count": 8,
   "metadata": {
    "editable": true
   },
   "outputs": [
    {
     "data": {
      "image/png": "[encoded data removed]",
      "text/plain": [
       "<matplotlib.figure.Figure at 0x7f6396f828d0>"
      ]
     },
     "metadata": {
      "needs_background": "light"
     },
     "output_type": "display_data"
    },
    {
     "data": {
      "image/png": "[encoded data removed]",
      "text/plain": [
       "<matplotlib.figure.Figure at 0x7f6396f5bfd0>"
      ]
     },
     "metadata": {
      "needs_background": "light"
     },
     "output_type": "display_data"
    },
    {
     "data": {
      "image/png": "[encoded data removed]",
      "text/plain": [
       "<matplotlib.figure.Figure at 0x7f6396f266a0>"
      ]
     },
     "metadata": {
      "needs_background": "light"
     },
     "output_type": "display_data"
    },
    {
     "data": {
      "image/png": "[encoded data removed]",
      "text/plain": [
       "<matplotlib.figure.Figure at 0x7f6396b7bef0>"
      ]
     },
     "metadata": {
      "needs_background": "light"
     },
     "output_type": "display_data"
    },
    {
     "data": {
      "image/png": "[encoded data removed]",
      "text/plain": [
       "<matplotlib.figure.Figure at 0x7f639678ea90>"
      ]
     },
     "metadata": {
      "needs_background": "light"
     },
     "output_type": "display_data"
    }
   ],
   "source": [
    "perform_eda(df, \"./images/eda\", save=False)"
   ]
  },
  {
   "cell_type": "code",
   "execution_count": 9,
   "metadata": {
    "editable": true
   },
   "outputs": [],
   "source": [
    "def encoder_helper(data_frame, category_list, response):\n",
    "    '''\n",
    "    helper function to turn each categorical column into a new column with\n",
    "    propotion of churn for each category\n",
    "\n",
    "    input:\n",
    "            data_frame: pandas dataframe\n",
    "            category_lst: list of columns that contain categorical features\n",
    "            response: string of response name [optional argument that could be\n",
    "                      used for naming variables or index y column]\n",
    "\n",
    "    output:\n",
    "            data_frame: pandas dataframe with new columns for\n",
    "    '''\n",
    "    for category in category_list:\n",
    "        output_lst = []\n",
    "        mean_groups = data_frame.groupby(category).mean()[response]\n",
    "        for value in data_frame[category]:\n",
    "            output_lst.append(mean_groups.loc[value])\n",
    "        data_frame[category + '_' + response] = output_lst\n",
    "\n",
    "    return data_frame"
   ]
  },
  {
   "cell_type": "code",
   "execution_count": 10,
   "metadata": {
    "editable": true
   },
   "outputs": [],
   "source": [
    "SELECTION = 'Churn'\n",
    "categories = ['Gender', 'Education_Level', 'Marital_Status',\n",
    "              'Income_Category', 'Card_Category']\n",
    "\n",
    "df = encoder_helper(df, categories, SELECTION)"
   ]
  },
  {
   "cell_type": "code",
   "execution_count": 11,
   "metadata": {
    "editable": true
   },
   "outputs": [],
   "source": [
    "def perform_feature_engineering(data_frame, selected_features, response):\n",
    "    '''\n",
    "    Perform feature engineering and create the training and testing input tables\n",
    "\n",
    "    input:\n",
    "              data_frame: pandas dataframe\n",
    "              selected_features: list of input model features\n",
    "              response: target features\n",
    "\n",
    "    output:\n",
    "              x_train: X training data\n",
    "              x_test: X testing data\n",
    "              y_train: y training data\n",
    "              y_test: y testing data\n",
    "    '''\n",
    "    # Create the target variable\n",
    "    y_target = data_frame[response]\n",
    "\n",
    "    # Create a container for the feature vector\n",
    "    x_features = pd.DataFrame()\n",
    "    x_features[selected_features] = data_frame[selected_features]\n",
    "\n",
    "    # train test split\n",
    "    x_train, x_test, y_train, y_test = train_test_split(\n",
    "        x_features, y_target, test_size=0.3, random_state=42)\n",
    "\n",
    "    return x_train, x_test, y_train, y_test"
   ]
  },
  {
   "cell_type": "code",
   "execution_count": 12,
   "metadata": {
    "editable": true
   },
   "outputs": [],
   "source": [
    "selected_features = [\n",
    "    'Customer_Age', 'Dependent_count', 'Months_on_book',\n",
    "    'Total_Relationship_Count', 'Months_Inactive_12_mon',\n",
    "    'Contacts_Count_12_mon', 'Credit_Limit', 'Total_Revolving_Bal',\n",
    "    'Avg_Open_To_Buy', 'Total_Amt_Chng_Q4_Q1', 'Total_Trans_Amt',\n",
    "    'Total_Trans_Ct', 'Total_Ct_Chng_Q4_Q1', 'Avg_Utilization_Ratio',\n",
    "    'Gender_Churn', 'Education_Level_Churn', 'Marital_Status_Churn',\n",
    "    'Income_Category_Churn', 'Card_Category_Churn']"
   ]
  },
  {
   "cell_type": "code",
   "execution_count": 13,
   "metadata": {
    "editable": true
   },
   "outputs": [],
   "source": [
    "response = 'Churn'"
   ]
  },
  {
   "cell_type": "code",
   "execution_count": 14,
   "metadata": {
    "editable": true
   },
   "outputs": [],
   "source": [
    "# train test split\n",
    "X_train, X_test, y_train, y_test = perform_feature_engineering(\n",
    "                                       df, selected_features, response)"
   ]
  },
  {
   "cell_type": "code",
   "execution_count": 15,
   "metadata": {
    "editable": true
   },
   "outputs": [
    {
     "data": {
      "text/html": [
       "<div>\n",
       "<style scoped>\n",
       "    .dataframe tbody tr th:only-of-type {\n",
       "        vertical-align: middle;\n",
       "    }\n",
       "\n",
       "    .dataframe tbody tr th {\n",
       "        vertical-align: top;\n",
       "    }\n",
       "\n",
       "    .dataframe thead th {\n",
       "        text-align: right;\n",
       "    }\n",
       "</style>\n",
       "<table border=\"1\" class=\"dataframe\">\n",
       "  <thead>\n",
       "    <tr style=\"text-align: right;\">\n",
       "      <th></th>\n",
       "      <th>Customer_Age</th>\n",
       "      <th>Dependent_count</th>\n",
       "      <th>Months_on_book</th>\n",
       "      <th>Total_Relationship_Count</th>\n",
       "      <th>Months_Inactive_12_mon</th>\n",
       "      <th>Contacts_Count_12_mon</th>\n",
       "      <th>Credit_Limit</th>\n",
       "      <th>Total_Revolving_Bal</th>\n",
       "      <th>Avg_Open_To_Buy</th>\n",
       "      <th>Total_Amt_Chng_Q4_Q1</th>\n",
       "      <th>Total_Trans_Amt</th>\n",
       "      <th>Total_Trans_Ct</th>\n",
       "      <th>Total_Ct_Chng_Q4_Q1</th>\n",
       "      <th>Avg_Utilization_Ratio</th>\n",
       "      <th>Gender_Churn</th>\n",
       "      <th>Education_Level_Churn</th>\n",
       "      <th>Marital_Status_Churn</th>\n",
       "      <th>Income_Category_Churn</th>\n",
       "      <th>Card_Category_Churn</th>\n",
       "    </tr>\n",
       "  </thead>\n",
       "  <tbody>\n",
       "    <tr>\n",
       "      <th>415</th>\n",
       "      <td>49</td>\n",
       "      <td>2</td>\n",
       "      <td>38</td>\n",
       "      <td>3</td>\n",
       "      <td>2</td>\n",
       "      <td>0</td>\n",
       "      <td>8077.0</td>\n",
       "      <td>1965</td>\n",
       "      <td>6112.0</td>\n",
       "      <td>0.637</td>\n",
       "      <td>1329</td>\n",
       "      <td>26</td>\n",
       "      <td>0.444</td>\n",
       "      <td>0.243</td>\n",
       "      <td>0.146152</td>\n",
       "      <td>0.178295</td>\n",
       "      <td>0.151269</td>\n",
       "      <td>0.134807</td>\n",
       "      <td>0.160979</td>\n",
       "    </tr>\n",
       "    <tr>\n",
       "      <th>3749</th>\n",
       "      <td>61</td>\n",
       "      <td>0</td>\n",
       "      <td>51</td>\n",
       "      <td>4</td>\n",
       "      <td>2</td>\n",
       "      <td>2</td>\n",
       "      <td>8476.0</td>\n",
       "      <td>0</td>\n",
       "      <td>8476.0</td>\n",
       "      <td>0.675</td>\n",
       "      <td>3889</td>\n",
       "      <td>67</td>\n",
       "      <td>0.489</td>\n",
       "      <td>0.000</td>\n",
       "      <td>0.173572</td>\n",
       "      <td>0.152012</td>\n",
       "      <td>0.169414</td>\n",
       "      <td>0.168165</td>\n",
       "      <td>0.160979</td>\n",
       "    </tr>\n",
       "    <tr>\n",
       "      <th>9295</th>\n",
       "      <td>27</td>\n",
       "      <td>0</td>\n",
       "      <td>19</td>\n",
       "      <td>1</td>\n",
       "      <td>1</td>\n",
       "      <td>3</td>\n",
       "      <td>34516.0</td>\n",
       "      <td>1131</td>\n",
       "      <td>33385.0</td>\n",
       "      <td>0.715</td>\n",
       "      <td>14716</td>\n",
       "      <td>112</td>\n",
       "      <td>0.750</td>\n",
       "      <td>0.033</td>\n",
       "      <td>0.146152</td>\n",
       "      <td>0.152024</td>\n",
       "      <td>0.172230</td>\n",
       "      <td>0.157655</td>\n",
       "      <td>0.147748</td>\n",
       "    </tr>\n",
       "    <tr>\n",
       "      <th>8290</th>\n",
       "      <td>52</td>\n",
       "      <td>1</td>\n",
       "      <td>36</td>\n",
       "      <td>1</td>\n",
       "      <td>1</td>\n",
       "      <td>3</td>\n",
       "      <td>3040.0</td>\n",
       "      <td>2517</td>\n",
       "      <td>523.0</td>\n",
       "      <td>0.774</td>\n",
       "      <td>4608</td>\n",
       "      <td>61</td>\n",
       "      <td>1.033</td>\n",
       "      <td>0.828</td>\n",
       "      <td>0.173572</td>\n",
       "      <td>0.168532</td>\n",
       "      <td>0.151269</td>\n",
       "      <td>0.171862</td>\n",
       "      <td>0.160979</td>\n",
       "    </tr>\n",
       "    <tr>\n",
       "      <th>7672</th>\n",
       "      <td>44</td>\n",
       "      <td>3</td>\n",
       "      <td>36</td>\n",
       "      <td>2</td>\n",
       "      <td>3</td>\n",
       "      <td>3</td>\n",
       "      <td>2228.0</td>\n",
       "      <td>0</td>\n",
       "      <td>2228.0</td>\n",
       "      <td>0.686</td>\n",
       "      <td>2523</td>\n",
       "      <td>45</td>\n",
       "      <td>0.607</td>\n",
       "      <td>0.000</td>\n",
       "      <td>0.173572</td>\n",
       "      <td>0.152012</td>\n",
       "      <td>0.169414</td>\n",
       "      <td>0.171862</td>\n",
       "      <td>0.160979</td>\n",
       "    </tr>\n",
       "  </tbody>\n",
       "</table>\n",
       "</div>"
      ],
      "text/plain": [
       "      Customer_Age  Dependent_count  Months_on_book  Total_Relationship_Count  \\\n",
       "415             49                2              38                         3   \n",
       "3749            61                0              51                         4   \n",
       "9295            27                0              19                         1   \n",
       "8290            52                1              36                         1   \n",
       "7672            44                3              36                         2   \n",
       "\n",
       "      Months_Inactive_12_mon  Contacts_Count_12_mon  Credit_Limit  \\\n",
       "415                        2                      0        8077.0   \n",
       "3749                       2                      2        8476.0   \n",
       "9295                       1                      3       34516.0   \n",
       "8290                       1                      3        3040.0   \n",
       "7672                       3                      3        2228.0   \n",
       "\n",
       "      Total_Revolving_Bal  Avg_Open_To_Buy  Total_Amt_Chng_Q4_Q1  \\\n",
       "415                  1965           6112.0                 0.637   \n",
       "3749                    0           8476.0                 0.675   \n",
       "9295                 1131          33385.0                 0.715   \n",
       "8290                 2517            523.0                 0.774   \n",
       "7672                    0           2228.0                 0.686   \n",
       "\n",
       "      Total_Trans_Amt  Total_Trans_Ct  Total_Ct_Chng_Q4_Q1  \\\n",
       "415              1329              26                0.444   \n",
       "3749             3889              67                0.489   \n",
       "9295            14716             112                0.750   \n",
       "8290             4608              61                1.033   \n",
       "7672             2523              45                0.607   \n",
       "\n",
       "      Avg_Utilization_Ratio  Gender_Churn  Education_Level_Churn  \\\n",
       "415                   0.243      0.146152               0.178295   \n",
       "3749                  0.000      0.173572               0.152012   \n",
       "9295                  0.033      0.146152               0.152024   \n",
       "8290                  0.828      0.173572               0.168532   \n",
       "7672                  0.000      0.173572               0.152012   \n",
       "\n",
       "      Marital_Status_Churn  Income_Category_Churn  Card_Category_Churn  \n",
       "415               0.151269               0.134807             0.160979  \n",
       "3749              0.169414               0.168165             0.160979  \n",
       "9295              0.172230               0.157655             0.147748  \n",
       "8290              0.151269               0.171862             0.160979  \n",
       "7672              0.169414               0.171862             0.160979  "
      ]
     },
     "execution_count": 15,
     "metadata": {},
     "output_type": "execute_result"
    }
   ],
   "source": [
    "X_train.head()"
   ]
  },
  {
   "cell_type": "code",
   "execution_count": 16,
   "metadata": {
    "editable": true
   },
   "outputs": [
    {
     "data": {
      "text/html": [
       "<div>\n",
       "<style scoped>\n",
       "    .dataframe tbody tr th:only-of-type {\n",
       "        vertical-align: middle;\n",
       "    }\n",
       "\n",
       "    .dataframe tbody tr th {\n",
       "        vertical-align: top;\n",
       "    }\n",
       "\n",
       "    .dataframe thead th {\n",
       "        text-align: right;\n",
       "    }\n",
       "</style>\n",
       "<table border=\"1\" class=\"dataframe\">\n",
       "  <thead>\n",
       "    <tr style=\"text-align: right;\">\n",
       "      <th></th>\n",
       "      <th>Customer_Age</th>\n",
       "      <th>Dependent_count</th>\n",
       "      <th>Months_on_book</th>\n",
       "      <th>Total_Relationship_Count</th>\n",
       "      <th>Months_Inactive_12_mon</th>\n",
       "      <th>Contacts_Count_12_mon</th>\n",
       "      <th>Credit_Limit</th>\n",
       "      <th>Total_Revolving_Bal</th>\n",
       "      <th>Avg_Open_To_Buy</th>\n",
       "      <th>Total_Amt_Chng_Q4_Q1</th>\n",
       "      <th>Total_Trans_Amt</th>\n",
       "      <th>Total_Trans_Ct</th>\n",
       "      <th>Total_Ct_Chng_Q4_Q1</th>\n",
       "      <th>Avg_Utilization_Ratio</th>\n",
       "      <th>Gender_Churn</th>\n",
       "      <th>Education_Level_Churn</th>\n",
       "      <th>Marital_Status_Churn</th>\n",
       "      <th>Income_Category_Churn</th>\n",
       "      <th>Card_Category_Churn</th>\n",
       "    </tr>\n",
       "  </thead>\n",
       "  <tbody>\n",
       "    <tr>\n",
       "      <th>3781</th>\n",
       "      <td>48</td>\n",
       "      <td>3</td>\n",
       "      <td>39</td>\n",
       "      <td>4</td>\n",
       "      <td>3</td>\n",
       "      <td>4</td>\n",
       "      <td>2991.0</td>\n",
       "      <td>1508</td>\n",
       "      <td>1483.0</td>\n",
       "      <td>0.703</td>\n",
       "      <td>3734</td>\n",
       "      <td>64</td>\n",
       "      <td>0.882</td>\n",
       "      <td>0.504</td>\n",
       "      <td>0.173572</td>\n",
       "      <td>0.159381</td>\n",
       "      <td>0.169414</td>\n",
       "      <td>0.171862</td>\n",
       "      <td>0.160979</td>\n",
       "    </tr>\n",
       "    <tr>\n",
       "      <th>2922</th>\n",
       "      <td>59</td>\n",
       "      <td>1</td>\n",
       "      <td>53</td>\n",
       "      <td>5</td>\n",
       "      <td>5</td>\n",
       "      <td>4</td>\n",
       "      <td>2192.0</td>\n",
       "      <td>1569</td>\n",
       "      <td>623.0</td>\n",
       "      <td>0.706</td>\n",
       "      <td>4010</td>\n",
       "      <td>79</td>\n",
       "      <td>0.717</td>\n",
       "      <td>0.716</td>\n",
       "      <td>0.146152</td>\n",
       "      <td>0.159381</td>\n",
       "      <td>0.169414</td>\n",
       "      <td>0.171862</td>\n",
       "      <td>0.160979</td>\n",
       "    </tr>\n",
       "    <tr>\n",
       "      <th>5070</th>\n",
       "      <td>37</td>\n",
       "      <td>2</td>\n",
       "      <td>36</td>\n",
       "      <td>4</td>\n",
       "      <td>3</td>\n",
       "      <td>3</td>\n",
       "      <td>1734.0</td>\n",
       "      <td>987</td>\n",
       "      <td>747.0</td>\n",
       "      <td>0.879</td>\n",
       "      <td>4727</td>\n",
       "      <td>67</td>\n",
       "      <td>0.914</td>\n",
       "      <td>0.569</td>\n",
       "      <td>0.173572</td>\n",
       "      <td>0.155691</td>\n",
       "      <td>0.161765</td>\n",
       "      <td>0.171862</td>\n",
       "      <td>0.160979</td>\n",
       "    </tr>\n",
       "    <tr>\n",
       "      <th>7246</th>\n",
       "      <td>47</td>\n",
       "      <td>3</td>\n",
       "      <td>36</td>\n",
       "      <td>4</td>\n",
       "      <td>2</td>\n",
       "      <td>3</td>\n",
       "      <td>4786.0</td>\n",
       "      <td>1516</td>\n",
       "      <td>3270.0</td>\n",
       "      <td>0.940</td>\n",
       "      <td>4973</td>\n",
       "      <td>74</td>\n",
       "      <td>0.850</td>\n",
       "      <td>0.317</td>\n",
       "      <td>0.146152</td>\n",
       "      <td>0.210643</td>\n",
       "      <td>0.161765</td>\n",
       "      <td>0.151397</td>\n",
       "      <td>0.160979</td>\n",
       "    </tr>\n",
       "    <tr>\n",
       "      <th>623</th>\n",
       "      <td>42</td>\n",
       "      <td>3</td>\n",
       "      <td>33</td>\n",
       "      <td>3</td>\n",
       "      <td>3</td>\n",
       "      <td>2</td>\n",
       "      <td>3714.0</td>\n",
       "      <td>2170</td>\n",
       "      <td>1544.0</td>\n",
       "      <td>0.524</td>\n",
       "      <td>1454</td>\n",
       "      <td>35</td>\n",
       "      <td>0.522</td>\n",
       "      <td>0.584</td>\n",
       "      <td>0.146152</td>\n",
       "      <td>0.168532</td>\n",
       "      <td>0.169414</td>\n",
       "      <td>0.157655</td>\n",
       "      <td>0.160979</td>\n",
       "    </tr>\n",
       "  </tbody>\n",
       "</table>\n",
       "</div>"
      ],
      "text/plain": [
       "      Customer_Age  Dependent_count  Months_on_book  Total_Relationship_Count  \\\n",
       "3781            48                3              39                         4   \n",
       "2922            59                1              53                         5   \n",
       "5070            37                2              36                         4   \n",
       "7246            47                3              36                         4   \n",
       "623             42                3              33                         3   \n",
       "\n",
       "      Months_Inactive_12_mon  Contacts_Count_12_mon  Credit_Limit  \\\n",
       "3781                       3                      4        2991.0   \n",
       "2922                       5                      4        2192.0   \n",
       "5070                       3                      3        1734.0   \n",
       "7246                       2                      3        4786.0   \n",
       "623                        3                      2        3714.0   \n",
       "\n",
       "      Total_Revolving_Bal  Avg_Open_To_Buy  Total_Amt_Chng_Q4_Q1  \\\n",
       "3781                 1508           1483.0                 0.703   \n",
       "2922                 1569            623.0                 0.706   \n",
       "5070                  987            747.0                 0.879   \n",
       "7246                 1516           3270.0                 0.940   \n",
       "623                  2170           1544.0                 0.524   \n",
       "\n",
       "      Total_Trans_Amt  Total_Trans_Ct  Total_Ct_Chng_Q4_Q1  \\\n",
       "3781             3734              64                0.882   \n",
       "2922             4010              79                0.717   \n",
       "5070             4727              67                0.914   \n",
       "7246             4973              74                0.850   \n",
       "623              1454              35                0.522   \n",
       "\n",
       "      Avg_Utilization_Ratio  Gender_Churn  Education_Level_Churn  \\\n",
       "3781                  0.504      0.173572               0.159381   \n",
       "2922                  0.716      0.146152               0.159381   \n",
       "5070                  0.569      0.173572               0.155691   \n",
       "7246                  0.317      0.146152               0.210643   \n",
       "623                   0.584      0.146152               0.168532   \n",
       "\n",
       "      Marital_Status_Churn  Income_Category_Churn  Card_Category_Churn  \n",
       "3781              0.169414               0.171862             0.160979  \n",
       "2922              0.169414               0.171862             0.160979  \n",
       "5070              0.161765               0.171862             0.160979  \n",
       "7246              0.161765               0.151397             0.160979  \n",
       "623               0.169414               0.157655             0.160979  "
      ]
     },
     "execution_count": 16,
     "metadata": {},
     "output_type": "execute_result"
    }
   ],
   "source": [
    "X_test.head()"
   ]
  },
  {
   "cell_type": "code",
   "execution_count": 17,
   "metadata": {
    "editable": true
   },
   "outputs": [
    {
     "data": {
      "text/plain": [
       "415     0\n",
       "3749    0\n",
       "9295    0\n",
       "8290    0\n",
       "7672    1\n",
       "Name: Churn, dtype: int64"
      ]
     },
     "execution_count": 17,
     "metadata": {},
     "output_type": "execute_result"
    }
   ],
   "source": [
    "y_train.head()"
   ]
  },
  {
   "cell_type": "code",
   "execution_count": 18,
   "metadata": {
    "editable": true
   },
   "outputs": [
    {
     "data": {
      "text/plain": [
       "3781    0\n",
       "2922    0\n",
       "5070    0\n",
       "7246    0\n",
       "623     0\n",
       "Name: Churn, dtype: int64"
      ]
     },
     "execution_count": 18,
     "metadata": {},
     "output_type": "execute_result"
    }
   ],
   "source": [
    "y_test.head()"
   ]
  },
  {
   "cell_type": "code",
   "execution_count": 19,
   "metadata": {
    "editable": true
   },
   "outputs": [],
   "source": [
    "def train_random_forest_model(x_train, y_train, search_param, path):\n",
    "    '''\n",
    "    train and store Random Forest Classifer to given path\n",
    "    input:\n",
    "              x_train: X training data\n",
    "              y_train: y training data\n",
    "              search_param: grid search parameters\n",
    "              path: a path to the classifier\n",
    "    output:\n",
    "              None\n",
    "    '''\n",
    "    # Train the Random Forest Classifier\n",
    "    rand_forest = RandomForestClassifier(random_state=42)\n",
    "    cv_rand_forest = GridSearchCV(\n",
    "        estimator=rand_forest,\n",
    "        param_grid=search_param,\n",
    "        cv=5)\n",
    "    cv_rand_forest.fit(x_train, y_train)\n",
    "\n",
    "    # Save the best Random Forest Classifier Model\n",
    "    joblib.dump(\n",
    "        cv_rand_forest.best_estimator_,\n",
    "        path + \"/random_forest_model.pkl\")"
   ]
  },
  {
   "cell_type": "code",
   "execution_count": 20,
   "metadata": {
    "editable": true
   },
   "outputs": [],
   "source": [
    "# Define Grid Parameter\n",
    "search_param = { \n",
    "    'n_estimators': [200, 500],\n",
    "    'max_features': ['auto', 'sqrt'],\n",
    "    'max_depth' : [4,5,100],\n",
    "    'criterion' :['gini', 'entropy']\n",
    "}"
   ]
  },
  {
   "cell_type": "code",
   "execution_count": 21,
   "metadata": {
    "editable": true
   },
   "outputs": [],
   "source": [
    "train_random_forest_model(X_train, y_train, search_param, \"./models\")"
   ]
  },
  {
   "cell_type": "code",
   "execution_count": 22,
   "metadata": {
    "editable": true
   },
   "outputs": [],
   "source": [
    "def train_logistic_regression_model(x_train, y_train, path):\n",
    "    '''\n",
    "    train, test and store Logistic Regression Classifer model results\n",
    "    input:\n",
    "              x_train: X training data\n",
    "              y_train: y training data\n",
    "              path: a path to the classifier\n",
    "    output:\n",
    "              None\n",
    "    '''\n",
    "    # Train the Logistic Regression Classifier\n",
    "    log_reg = LogisticRegression()\n",
    "    log_reg.fit(x_train, y_train)\n",
    "\n",
    "    # Save the best Logistic Regression Model\n",
    "    joblib.dump(log_reg, path + \"/logistic_regression_model.pkl\")"
   ]
  },
  {
   "cell_type": "code",
   "execution_count": 23,
   "metadata": {
    "editable": true
   },
   "outputs": [
    {
     "name": "stderr",
     "output_type": "stream",
     "text": [
      "lbfgs failed to converge (status=1):\n",
      "STOP: TOTAL NO. of ITERATIONS REACHED LIMIT.\n",
      "\n",
      "Increase the number of iterations (max_iter) or scale the data as shown in:\n",
      "    https://scikit-learn.org/stable/modules/preprocessing.html.\n",
      "Please also refer to the documentation for alternative solver options:\n",
      "    https://scikit-learn.org/stable/modules/linear_model.html#logistic-regression\n"
     ]
    }
   ],
   "source": [
    "train_logistic_regression_model(X_train, y_train, \"./models\")"
   ]
  },
  {
   "cell_type": "code",
   "execution_count": 24,
   "metadata": {
    "editable": true
   },
   "outputs": [],
   "source": [
    "def characterize_random_forest_model(x_train, x_test, y_train, y_test, path, save=True):\n",
    "    '''\n",
    "    characterize performance of Random Forest model\n",
    "    input:\n",
    "              x_train: X training data\n",
    "              x_test: X testing data\n",
    "              y_train: y training data\n",
    "              y_test: y testing data\n",
    "              path: a path to the classifier\n",
    "              save: save image (True) or display image (False) \n",
    "    output:\n",
    "              None\n",
    "    '''\n",
    "    # Load Random Forest Classifier\n",
    "    rand_forest_model = joblib.load(path + \"/random_forest_model.pkl\")\n",
    "\n",
    "    # Predict using Random Forest Classifier\n",
    "    y_train_preds_rf = rand_forest_model.predict(x_train)\n",
    "    y_test_preds_rf = rand_forest_model.predict(x_test)\n",
    "    \n",
    "    # Create image of model characterization report\n",
    "    plt.rc('figure', figsize=(5, 5))\n",
    "    plt.text(0.01, 1.25, str('Random Forest Train'), {'fontsize': 10}, fontproperties = 'monospace')\n",
    "    plt.text(0.01, 0.05, str(classification_report(y_test, y_test_preds_rf)), {'fontsize': 10}, fontproperties = 'monospace')\n",
    "    plt.text(0.01, 0.6, str('Random Forest Test'), {'fontsize': 10}, fontproperties = 'monospace')\n",
    "    plt.text(0.01, 0.7, str(classification_report(y_train, y_train_preds_rf)), {'fontsize': 10}, fontproperties = 'monospace')\n",
    "    plt.axis('off');\n",
    "    if save is True:\n",
    "        plt.savefig(path + \"/Random_Forest_Metrics.png\")\n",
    "    else:\n",
    "        plt.show()"
   ]
  },
  {
   "cell_type": "code",
   "execution_count": 25,
   "metadata": {
    "editable": true
   },
   "outputs": [
    {
     "data": {
      "image/png": "[encoded data removed]",
      "text/plain": [
       "<matplotlib.figure.Figure at 0x7f6396e44da0>"
      ]
     },
     "metadata": {
      "needs_background": "light"
     },
     "output_type": "display_data"
    }
   ],
   "source": [
    "characterize_random_forest_model(X_train, X_test, y_train, y_test, \"./models\")"
   ]
  },
  {
   "cell_type": "code",
   "execution_count": 26,
   "metadata": {
    "editable": true
   },
   "outputs": [],
   "source": [
    "def characterize_logistic_regression_model(\n",
    "        x_train, x_test, y_train, y_test, path, save=True):\n",
    "    '''\n",
    "    characterize performance of Logistic Regression model\n",
    "    input:\n",
    "              x_train: X training data\n",
    "              x_test: X testing data\n",
    "              y_train: y training data\n",
    "              y_test: y testing data\n",
    "              path: a path to the classifier\n",
    "              save: save image (True) or display image (False) \n",
    "    output:\n",
    "              None\n",
    "    '''\n",
    "    # Load the Logistic Regression model\n",
    "    log_reg_model = joblib.load(path + \"/logistic_regression_model.pkl\")\n",
    "\n",
    "    # Predict using Logistic Regression model\n",
    "    y_train_preds_lr = log_reg_model.predict(x_train)\n",
    "    y_test_preds_lr = log_reg_model.predict(x_test)\n",
    "    \n",
    "    # Create image of model characterization report\n",
    "    plt.rc('figure', figsize=(5, 5))\n",
    "    plt.text(0.01, 1.25, str('Logistic Regression Train'), {'fontsize': 10}, fontproperties = 'monospace')\n",
    "    plt.text(0.01, 0.05, str(classification_report(y_train, y_train_preds_lr)), {'fontsize': 10}, fontproperties = 'monospace')\n",
    "    plt.text(0.01, 0.6, str('Logistic Regression Test'), {'fontsize': 10}, fontproperties = 'monospace')\n",
    "    plt.text(0.01, 0.7, str(classification_report(y_test, y_test_preds_lr)), {'fontsize': 10}, fontproperties = 'monospace')\n",
    "    plt.axis('off');\n",
    "    if save is True:\n",
    "        plt.savefig(path + \"/Logistic_Regression_Metrics.png\")\n",
    "    else:\n",
    "        plt.show()"
   ]
  },
  {
   "cell_type": "code",
   "execution_count": 27,
   "metadata": {
    "editable": true
   },
   "outputs": [
    {
     "data": {
      "image/png": "[encoded data removed]",
      "text/plain": [
       "<matplotlib.figure.Figure at 0x7f6396e9def0>"
      ]
     },
     "metadata": {
      "needs_background": "light"
     },
     "output_type": "display_data"
    }
   ],
   "source": [
    "characterize_logistic_regression_model(X_train, X_test, y_train, y_test, \"./models\", save=False)"
   ]
  },
  {
   "cell_type": "code",
   "execution_count": 28,
   "metadata": {
    "editable": true
   },
   "outputs": [],
   "source": [
    "def plot_two_model_roc_curves(\n",
    "        x_test,\n",
    "        y_test,\n",
    "        model_one_path,\n",
    "        model_two_path,\n",
    "        output_path,\n",
    "        save=True):\n",
    "    '''\n",
    "    produces ROC curves for both models, plots them individually and together\n",
    "\n",
    "    input:\n",
    "            x_test: X testing data\n",
    "            y_test: y testing data\n",
    "            model_one_path: first model path\n",
    "            model_two_path: second model path\n",
    "            output_path: output_path\n",
    "            save: True to save, False to show\n",
    "    output:\n",
    "             None\n",
    "    '''\n",
    "    # Load models\n",
    "    model_one = joblib.load(model_one_path)\n",
    "    model_two = joblib.load(model_two_path)\n",
    "\n",
    "    # Plot model one individual ROC curve\n",
    "    plt.figure(figsize=(15, 8))\n",
    "    model_one_disp = plot_roc_curve(model_one, x_test, y_test)\n",
    "    if save is True:\n",
    "        plt.savefig(output_path + \"/Model_One_ROC.png\")\n",
    "    else:\n",
    "        plt.show()\n",
    "\n",
    "    # Plot model two individual ROC curve\n",
    "    plt.figure(figsize=(15, 8))\n",
    "    model_two_disp = plot_roc_curve(model_two, x_test, y_test)\n",
    "    if save is True:\n",
    "        plt.savefig(output_path + \"/Model_Two_ROC.png\")\n",
    "    else:\n",
    "        plt.show()\n",
    "\n",
    "    # Plot model two individual ROC curve\n",
    "    plt.figure(figsize=(15, 8))\n",
    "    model_one_disp = plot_roc_curve(model_one, x_test, y_test)\n",
    "    model_two_disp = plot_roc_curve(\n",
    "        model_two, x_test, y_test, ax=model_one_disp.ax_)\n",
    "    model_two_disp.figure_.suptitle(\"ROC Curve Comparison\")\n",
    "    if save is True:\n",
    "        plt.savefig(output_path + \"/Combined_ROC.png\")\n",
    "    else:\n",
    "        plt.show()  "
   ]
  },
  {
   "cell_type": "code",
   "execution_count": 29,
   "metadata": {
    "editable": true
   },
   "outputs": [
    {
     "data": {
      "text/plain": [
       "<matplotlib.figure.Figure at 0x7f6396f55eb8>"
      ]
     },
     "metadata": {},
     "output_type": "display_data"
    },
    {
     "data": {
      "image/png": "[encoded data removed]",
      "text/plain": [
       "<matplotlib.figure.Figure at 0x7f639a8835c0>"
      ]
     },
     "metadata": {
      "needs_background": "light"
     },
     "output_type": "display_data"
    },
    {
     "data": {
      "text/plain": [
       "<matplotlib.figure.Figure at 0x7f63970b65c0>"
      ]
     },
     "metadata": {},
     "output_type": "display_data"
    },
    {
     "data": {
      "image/png": "[encoded data removed]",
      "text/plain": [
       "<matplotlib.figure.Figure at 0x7f6396e4ec88>"
      ]
     },
     "metadata": {
      "needs_background": "light"
     },
     "output_type": "display_data"
    },
    {
     "data": {
      "text/plain": [
       "<matplotlib.figure.Figure at 0x7f6396b4cdd8>"
      ]
     },
     "metadata": {},
     "output_type": "display_data"
    },
    {
     "data": {
      "image/png": "[encoded data removed]",
      "text/plain": [
       "<matplotlib.figure.Figure at 0x7f63967d6c88>"
      ]
     },
     "metadata": {
      "needs_background": "light"
     },
     "output_type": "display_data"
    }
   ],
   "source": [
    "plot_two_model_roc_curves(X_test, y_test, \"./models/random_forest_model.pkl\", \"./models/logistic_regression_model.pkl\", \"./images/results\", save=False)"
   ]
  },
  {
   "cell_type": "code",
   "execution_count": 30,
   "metadata": {
    "editable": true
   },
   "outputs": [],
   "source": [
    "def shapely_plot(x_data, model_path, output_path, save=True):\n",
    "    '''\n",
    "    creates and stores the feature importances in path\n",
    "    input:\n",
    "            x_data: pandas dataframe of X values\n",
    "            model_path: path to model object\n",
    "            output_pth: path to store the figure\n",
    "            save: True to save, False to show\n",
    "    output:\n",
    "             None\n",
    "    '''\n",
    "    # Load model\n",
    "    model = joblib.load(model_path)\n",
    "    \n",
    "    # Calculate feature explainer\n",
    "    explainer = shap.TreeExplainer(model)\n",
    "    \n",
    "    # Generate Shapely values\n",
    "    shapely_values = explainer.shap_values(x_data)\n",
    "    \n",
    "    # Create plot\n",
    "    plt.figure(figsize=(20, 5))\n",
    "    plt.title(\"Shapely Summary Plot\")\n",
    "    shap.summary_plot(shapely_values, x_data, plot_type=\"bar\")\n",
    "    if save is True:\n",
    "        plt.savefig(output_path + \"Shapely_Summary_Plot.png\")\n",
    "    else:\n",
    "        plt.show()"
   ]
  },
  {
   "cell_type": "code",
   "execution_count": 31,
   "metadata": {
    "editable": true
   },
   "outputs": [
    {
     "data": {
      "image/png": "[encoded data removed]",
      "text/plain": [
       "<matplotlib.figure.Figure at 0x7f6396f82a58>"
      ]
     },
     "metadata": {
      "needs_background": "light"
     },
     "output_type": "display_data"
    }
   ],
   "source": [
    "shapely_plot(X_test, \"./models/random_forest_model.pkl\", \"./images/results/rf_\", save=False)"
   ]
  },
  {
   "cell_type": "code",
   "execution_count": 32,
   "metadata": {
    "editable": true
   },
   "outputs": [],
   "source": [
    "def feature_importance_plot(x_data, model_path, output_path, save=True):\n",
    "    '''\n",
    "    creates and stores the feature importances in path\n",
    "    input:\n",
    "            x_data: pandas dataframe of X values\n",
    "            model_path: path to model object\n",
    "            output_pth: path to store the figure\n",
    "            save: True to save, False to show\n",
    "    output:\n",
    "             None\n",
    "    '''\n",
    "    # Load model\n",
    "    model = joblib.load(model_path)\n",
    "    \n",
    "    # Calculate feature importances\n",
    "    importances = model.feature_importances_\n",
    "    # Sort feature importances in descending order\n",
    "    indices = np.argsort(importances)[::-1]\n",
    "\n",
    "    # Rearrange feature names so they match the sorted feature importances\n",
    "    names = [x_data.columns[i] for i in indices]\n",
    "\n",
    "    # Create plot\n",
    "    plt.figure(figsize=(20,5))\n",
    "    plt.title(\"Feature Importance\")\n",
    "    plt.ylabel('Importance')\n",
    "    plt.bar(range(x_data.shape[1]), importances[indices])\n",
    "    plt.xticks(range(x_data.shape[1]), names, rotation=90)\n",
    "    if save is True:\n",
    "        plt.savefig(output_path + \"Feature_Importance_Plot.png\")\n",
    "    else:\n",
    "        plt.show()"
   ]
  },
  {
   "cell_type": "code",
   "execution_count": 33,
   "metadata": {
    "editable": true
   },
   "outputs": [
    {
     "data": {
      "image/png": "[encoded data removed]",
      "text/plain": [
       "<matplotlib.figure.Figure at 0x7f6396a1ef98>"
      ]
     },
     "metadata": {
      "needs_background": "light"
     },
     "output_type": "display_data"
    }
   ],
   "source": [
    "feature_importance_plot(X_test, \"./models/random_forest_model.pkl\", \"./images/results/rf_\", save=False)"
   ]
  },
  {
   "cell_type": "code",
   "execution_count": null,
   "metadata": {
    "editable": true
   },
   "outputs": [],
   "source": []
  }
 ],
 "metadata": {
  "kernelspec": {
   "display_name": "Python 3",
   "language": "python",
   "name": "python3"
  },
  "language_info": {
   "codemirror_mode": {
    "name": "ipython",
    "version": 3
   },
   "file_extension": ".py",
   "mimetype": "text/x-python",
   "name": "python",
   "nbconvert_exporter": "python",
   "pygments_lexer": "ipython3",
   "version": "3.6.3"
  }
 },
 "nbformat": 4,
 "nbformat_minor": 4
}
